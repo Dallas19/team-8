{
 "cells": [
  {
   "cell_type": "markdown",
   "metadata": {
    "extensions": {
     "jupyter_dashboards": {
      "version": 1,
      "views": {
       "grid_default": {},
       "report_default": {
        "hidden": false
       }
      }
     }
    }
   },
   "source": [
    "# Public Data Visualization"
   ]
  },
  {
   "cell_type": "code",
   "execution_count": 14,
   "metadata": {
    "extensions": {
     "jupyter_dashboards": {
      "version": 1,
      "views": {
       "grid_default": {},
       "report_default": {
        "hidden": true
       }
      }
     }
    }
   },
   "outputs": [],
   "source": [
    "import pandas as pd\n",
    "import matplotlib.pyplot as plt\n",
    "import numpy as np\n",
    "\n",
    "data = pd.read_excel('United_Way_Synthetic_Dataset.xlsx')\n",
    "\n",
    "def generate_annual_metric_visualization(strategy_name,program_name=None):\n",
    "    strategy_frame = data[(data['Strategy_Name']==strategy_name)]\n",
    "\n",
    "    metric_names = list(set(strategy_frame['Outcome_Indicator_Name']))\n",
    "    metric_sums = []\n",
    "    metric_targets =[]\n",
    "    for metric_name in metric_names:\n",
    "        metric_sum = 0\n",
    "        metric_frame = strategy_frame[strategy_frame['Outcome_Indicator_Name']==metric_name]\n",
    "        for i in range(-8,-1):\n",
    "            metric_sum += metric_frame[metric_frame.columns[i]].sum()\n",
    "        metric_sums.append(metric_sum)\n",
    "        metric_targets.append(metric_frame[metric_frame.columns[-1]].sum())\n",
    "    \n",
    "    ind = np.arange(len(metric_names)) \n",
    "    width = 0.35       \n",
    "    plt.bar(ind, metric_sums, width, label='Actual to Date')\n",
    "    plt.bar(ind + width, metric_targets, width, label='Annual Target')\n",
    "    \n",
    "    plt.ylabel('Measure Value')\n",
    "    plt.xticks(ind + width / 2, metric_names, rotation='vertical')\n",
    "    plt.legend(loc='best')\n",
    "    plt.show()\n",
    "\n",
    "#generate_annual_metric_visualization('Increase Access to Mental Health Programs')\n",
    "\n",
    "def generate_specific_metric_visualization(metric_name,strategy_name,program_name=None):\n",
    "    frame = data[(data['Strategy_Name']==strategy_name)&(data['Outcome_Indicator_Name']==metric_name)]\n",
    "    \n",
    "    values = []\n",
    "    cumulative_values = []\n",
    "    x_axis = []\n",
    "    target = frame[frame.columns[-1]].sum()\n",
    "    \n",
    "    for i in range(-8,-1):\n",
    "        values.append(frame[frame.columns[i]].sum())\n",
    "        x_axis.append(frame.columns[i])\n",
    "        \n",
    "    cumulative_values.append(values[0])\n",
    "    for i in range(1,len(values)):\n",
    "        cumulative_values.append(values[i] + cumulative_values[i-1])\n",
    "    \n",
    "    plt.hlines(target,0,len(cumulative_values)-1, 'r', 'dotted')\n",
    "    plt.ylabel('Measure Value')\n",
    "    plt.plot(cumulative_values, '-bo')\n",
    "    plt.xticks(np.arange(len(x_axis)), x_axis, rotation='vertical')\n",
    "    plt.show()\n",
    "    \n",
    "#generate_specific_metric_visualization('Number of Families Receiving Mental Health Outreach Efforts','Increase Access to Mental Health Programs')"
   ]
  },
  {
   "cell_type": "code",
   "execution_count": 17,
   "metadata": {
    "extensions": {
     "jupyter_dashboards": {
      "version": 1,
      "views": {
       "grid_default": {},
       "report_default": {
        "hidden": false
       }
      }
     }
    },
    "scrolled": false
   },
   "outputs": [
    {
     "data": {
      "application/vnd.jupyter.widget-view+json": {
       "model_id": "c7832b2cec374cd0acbcb2ddc72e7b58",
       "version_major": 2,
       "version_minor": 0
      },
      "text/plain": [
       "TwoByTwoLayout(children=(Select(description='Strategy:', layout=Layout(grid_area='top-left'), options=('Increa…"
      ]
     },
     "metadata": {},
     "output_type": "display_data"
    }
   ],
   "source": [
    "import ipywidgets as widgets\n",
    "from IPython.display import display\n",
    "from ipywidgets import TwoByTwoLayout\n",
    "from IPython.display import clear_output\n",
    "\n",
    "strategy_dropdown = widgets.Select(\n",
    "    options=list(set(data['Strategy_Name'])),\n",
    "    # rows=10,\n",
    "    description='Strategy:',\n",
    "    disabled=False\n",
    ")\n",
    "metric_dropdown = widgets.Select(\n",
    "    options=list(set(data['Outcome_Indicator_Name'])),\n",
    "    # rows=10,\n",
    "    description='Metric:',\n",
    "    disabled=False\n",
    ")\n",
    "\n",
    "btn = widgets.Button(description='Generate')\n",
    "def btn_eventhandler(obj):\n",
    "    #clear_output()\n",
    "    generate_annual_metric_visualization(strategy_dropdown.value)\n",
    "btn.on_click(btn_eventhandler)\n",
    "\n",
    "#display(strategy_dropdown)\n",
    "#display(btn)\n",
    "TwoByTwoLayout(top_left=strategy_dropdown,\n",
    "               top_right=btn)"
   ]
  },
  {
   "cell_type": "code",
   "execution_count": 18,
   "metadata": {
    "extensions": {
     "jupyter_dashboards": {
      "version": 1,
      "views": {
       "grid_default": {},
       "report_default": {
        "hidden": false
       }
      }
     }
    }
   },
   "outputs": [
    {
     "data": {
      "application/vnd.jupyter.widget-view+json": {
       "model_id": "bec30ec67983482fa87ac9ef8eb29d19",
       "version_major": 2,
       "version_minor": 0
      },
      "text/plain": [
       "Button(description='Generate', style=ButtonStyle())"
      ]
     },
     "metadata": {},
     "output_type": "display_data"
    },
    {
     "data": {
      "application/vnd.jupyter.widget-view+json": {
       "model_id": "ce1ac2a4da0d40dea74d4b8580d5e0f3",
       "version_major": 2,
       "version_minor": 0
      },
      "text/plain": [
       "TwoByTwoLayout(children=(Select(description='Strategy:', layout=Layout(grid_area='top-left'), options=('Increa…"
      ]
     },
     "metadata": {},
     "output_type": "display_data"
    }
   ],
   "source": [
    "btn = widgets.Button(description='Generate')\n",
    "def btn_eventhandler(obj):\n",
    "    generate_specific_metric_visualization(metric_dropdown.value,strategy_dropdown.value)\n",
    "btn.on_click(btn_eventhandler)\n",
    "\n",
    "display(btn)\n",
    "\n",
    "TwoByTwoLayout(top_left=strategy_dropdown,\n",
    "               top_right=metric_dropdown)\n",
    "\n"
   ]
  },
  {
   "cell_type": "code",
   "execution_count": 10,
   "metadata": {
    "extensions": {
     "jupyter_dashboards": {
      "version": 1,
      "views": {
       "grid_default": {},
       "report_default": {
        "hidden": true
       }
      }
     }
    }
   },
   "outputs": [
    {
     "ename": "ModuleNotFoundError",
     "evalue": "No module named 'pmdarima'",
     "output_type": "error",
     "traceback": [
      "\u001b[0;31m---------------------------------------------------------------------------\u001b[0m",
      "\u001b[0;31mModuleNotFoundError\u001b[0m                       Traceback (most recent call last)",
      "\u001b[0;32m<ipython-input-10-6858fadc5169>\u001b[0m in \u001b[0;36m<module>\u001b[0;34m\u001b[0m\n\u001b[0;32m----> 1\u001b[0;31m \u001b[0;32mfrom\u001b[0m \u001b[0mpmdarima\u001b[0m\u001b[0;34m.\u001b[0m\u001b[0marima\u001b[0m \u001b[0;32mimport\u001b[0m \u001b[0mauto_arima\u001b[0m\u001b[0;34m\u001b[0m\u001b[0;34m\u001b[0m\u001b[0m\n\u001b[0m",
      "\u001b[0;31mModuleNotFoundError\u001b[0m: No module named 'pmdarima'"
     ]
    }
   ],
   "source": [
    "from pmdarima.arima import auto_arima"
   ]
  },
  {
   "cell_type": "code",
   "execution_count": null,
   "metadata": {
    "extensions": {
     "jupyter_dashboards": {
      "version": 1,
      "views": {
       "grid_default": {},
       "report_default": {
        "hidden": true
       }
      }
     }
    }
   },
   "outputs": [],
   "source": []
  }
 ],
 "metadata": {
  "extensions": {
   "jupyter_dashboards": {
    "activeView": "report_default",
    "version": 1,
    "views": {
     "grid_default": {
      "cellMargin": 10,
      "defaultCellHeight": 20,
      "maxColumns": 12,
      "name": "grid",
      "type": "grid"
     },
     "report_default": {
      "name": "report",
      "type": "report"
     }
    }
   }
  },
  "kernelspec": {
   "display_name": "Python 3",
   "language": "python",
   "name": "python3"
  },
  "language_info": {
   "codemirror_mode": {
    "name": "ipython",
    "version": 3
   },
   "file_extension": ".py",
   "mimetype": "text/x-python",
   "name": "python",
   "nbconvert_exporter": "python",
   "pygments_lexer": "ipython3",
   "version": "3.7.1"
  }
 },
 "nbformat": 4,
 "nbformat_minor": 2
}
