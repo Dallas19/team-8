{
  "nbformat": 4,
  "nbformat_minor": 0,
  "metadata": {
    "colab": {
      "name": "Final_Data_Visualization.ipynb",
      "provenance": []
    },
    "kernelspec": {
      "name": "python3",
      "display_name": "Python 3"
    }
  },
  "cells": [
    {
      "cell_type": "code",
      "metadata": {
        "id": "sFZwsuEEzvkN",
        "colab_type": "code",
        "colab": {
          "base_uri": "https://localhost:8080/",
          "height": 309
        },
        "outputId": "2c275a2d-eecc-4e3a-ebfc-94e623c6ff3d"
      },
      "source": [
        "!pip install pmdarima"
      ],
      "execution_count": 7,
      "outputs": [
        {
          "output_type": "stream",
          "text": [
            "Collecting pmdarima\n",
            "\u001b[?25l  Downloading https://files.pythonhosted.org/packages/06/26/fc46ec4bff0988bfcf20d0eb155b9af2f435a1d9d96cdbb9b4a7074bc0c4/pmdarima-1.3.0-cp36-cp36m-manylinux1_x86_64.whl (1.1MB)\n",
            "\u001b[K     |████████████████████████████████| 1.1MB 2.7MB/s \n",
            "\u001b[?25hRequirement already satisfied: statsmodels>=0.10.0 in /usr/local/lib/python3.6/dist-packages (from pmdarima) (0.10.1)\n",
            "Requirement already satisfied: joblib>=0.11 in /usr/local/lib/python3.6/dist-packages (from pmdarima) (0.14.0)\n",
            "Requirement already satisfied: scikit-learn>=0.19 in /usr/local/lib/python3.6/dist-packages (from pmdarima) (0.21.3)\n",
            "Requirement already satisfied: pandas>=0.19 in /usr/local/lib/python3.6/dist-packages (from pmdarima) (0.24.2)\n",
            "Requirement already satisfied: six>=1.5 in /usr/local/lib/python3.6/dist-packages (from pmdarima) (1.12.0)\n",
            "Requirement already satisfied: scipy>=1.3 in /usr/local/lib/python3.6/dist-packages (from pmdarima) (1.3.1)\n",
            "Requirement already satisfied: Cython>=0.29 in /usr/local/lib/python3.6/dist-packages (from pmdarima) (0.29.13)\n",
            "Requirement already satisfied: numpy>=1.16 in /usr/local/lib/python3.6/dist-packages (from pmdarima) (1.16.5)\n",
            "Requirement already satisfied: patsy>=0.4.0 in /usr/local/lib/python3.6/dist-packages (from statsmodels>=0.10.0->pmdarima) (0.5.1)\n",
            "Requirement already satisfied: python-dateutil>=2.5.0 in /usr/local/lib/python3.6/dist-packages (from pandas>=0.19->pmdarima) (2.5.3)\n",
            "Requirement already satisfied: pytz>=2011k in /usr/local/lib/python3.6/dist-packages (from pandas>=0.19->pmdarima) (2018.9)\n",
            "Installing collected packages: pmdarima\n",
            "Successfully installed pmdarima-1.3.0\n"
          ],
          "name": "stdout"
        }
      ]
    },
    {
      "cell_type": "code",
      "metadata": {
        "id": "gPNhjfXqymab",
        "colab_type": "code",
        "colab": {}
      },
      "source": [
        "import pandas as pd\n",
        "import matplotlib.pyplot as plt\n",
        "import numpy as np\n",
        "from statsmodels.tsa.arima_model import ARIMA\n",
        "from pmdarima.arima import auto_arima\n",
        "\n",
        "data = pd.read_excel('United_Way_Synthetic_Dataset.xlsx')\n",
        "\n",
        "def generate_annual_metric_visualization(strategy_name,program_name=None):\n",
        "    strategy_frame = data[(data['Strategy_Name']==strategy_name)]\n",
        "    if program_name is not None:\n",
        "      strategy_frame = strategy_frame[strategy_frame['Program_Name']==program_name]\n",
        "\n",
        "    metric_names = list(set(strategy_frame['Outcome_Indicator_Name']))\n",
        "    metric_sums = []\n",
        "    metric_targets =[]\n",
        "    for metric_name in metric_names:\n",
        "        metric_sum = 0\n",
        "        metric_frame = strategy_frame[strategy_frame['Outcome_Indicator_Name']==metric_name]\n",
        "        for i in range(-8,-1):\n",
        "            metric_sum += metric_frame[metric_frame.columns[i]].sum()\n",
        "        metric_sums.append(metric_sum)\n",
        "        metric_targets.append(metric_frame[metric_frame.columns[-1]].sum())\n",
        "    \n",
        "    ind = np.arange(len(metric_names)) \n",
        "    width = 0.35       \n",
        "    plt.bar(ind, metric_sums, width, label='Actual to Date')\n",
        "    plt.bar(ind + width, metric_targets, width, label='Annual Target')\n",
        "    \n",
        "    plt.ylabel('Measure Value')\n",
        "    plt.xticks(ind + width / 2, metric_names, rotation='vertical')\n",
        "    plt.legend(loc='best')\n",
        "    plt.show()\n",
        "\n",
        "#generate_annual_metric_visualization('Expand Intervention Services for Family Violence', 'Agency A - Program I')\n",
        "\n",
        "def generate_specific_metric_visualization(metric_name,strategy_name,program_name=None):\n",
        "    frame = data[(data['Strategy_Name']==strategy_name)&(data['Outcome_Indicator_Name']==metric_name)]\n",
        "    if program_name is not None:\n",
        "      frame = frame[frame['Program_Name']==program_name]\n",
        "    \n",
        "    values = []\n",
        "    cumulative_values = []\n",
        "    x_axis = []\n",
        "    target = frame[frame.columns[-1]].sum()\n",
        "    \n",
        "    for i in range(-8,-1):\n",
        "        values.append(frame[frame.columns[i]].sum())\n",
        "        x_axis.append(frame.columns[i])\n",
        "    \n",
        "    print(values)\n",
        "    \n",
        "    auto_model = auto_arima(values, start_p=1, start_q=1,\n",
        "                      test='adf',       # use adftest to find optimal 'd'\n",
        "                      max_p=3, max_q=3, # maximum p and q\n",
        "                      m=1,              # frequency of series\n",
        "                      d=None,           # let model determine 'd'\n",
        "                      seasonal=False,   # No Seasonality\n",
        "                      start_P=0, \n",
        "                      D=0, \n",
        "                      trace=True,\n",
        "                      error_action='ignore',  \n",
        "                      suppress_warnings=True, \n",
        "                      stepwise=True)\n",
        "    \n",
        "    #print(auto_model.order)\n",
        "    #clear_output()\n",
        "    nvalues = np.array(values, dtype=np.float32)\n",
        "    model = ARIMA(nvalues, order=auto_model.order)\n",
        "    fitted = model.fit(disp=-1)  \n",
        "    \n",
        "    # Forecast\n",
        "    fc, se, conf = fitted.forecast(12, alpha=0.05)  # 95% conf\n",
        "    \n",
        "    # Make as pandas series\n",
        "    fc_series = pd.Series(fc)\n",
        "    lower_series = pd.Series(conf[:, 0])\n",
        "    upper_series = pd.Series(conf[:, 1])\n",
        "    \n",
        "    for i in range(len(values)):\n",
        "      fc[i]=values[i]\n",
        "      #lower_series[i]=0\n",
        "      #upper_series[i]=0\n",
        "     \n",
        "    cumulative_values.append(fc[0])\n",
        "    lower_series[0]=fc[0]\n",
        "    upper_series[0]=fc[0]\n",
        "    for i in range(1,len(fc)):\n",
        "        cumulative_values.append(fc[i] + cumulative_values[i-1])\n",
        "        lower_series[i] += cumulative_values[i] - fc[i]\n",
        "        upper_series[i] += cumulative_values[i] - fc[i]\n",
        "        \n",
        "    for i in range(len(values)):\n",
        "      lower_series[i]=cumulative_values[i]\n",
        "      upper_series[i]=cumulative_values[i]\n",
        "\n",
        "    plt.fill_between(lower_series.index, lower_series, upper_series, \n",
        "                 color='k', alpha=.15)\n",
        "    plt.hlines(target,0,len(cumulative_values)-1, 'r', 'dotted')\n",
        "    plt.ylabel('Cumulative Measure Value')\n",
        "    plt.plot(cumulative_values, '-bo')\n",
        "    x_axis.extend(['February 2020','March 2020','April 2020','May 2020','June 2020'])\n",
        "    plt.xticks(np.arange(len(x_axis)), x_axis, rotation='vertical')\n",
        "    plt.show()\n",
        "    \n",
        "#generate_specific_metric_visualization('Number of Children at Lower Risk of Child Abuse','Expand Intervention Services for Family Violence')"
      ],
      "execution_count": 0,
      "outputs": []
    },
    {
      "cell_type": "code",
      "metadata": {
        "id": "ExHDJaety6RS",
        "colab_type": "code",
        "colab": {}
      },
      "source": [
        "import ipywidgets as widgets\n",
        "from IPython.display import display\n",
        "from ipywidgets import TwoByTwoLayout\n",
        "from IPython.display import clear_output\n",
        "\n",
        "strategy_dropdown = widgets.Select(\n",
        "    options=list(set(data['Strategy_Name'])),\n",
        "    # rows=10,\n",
        "    description='Strategy:',\n",
        "    disabled=False\n",
        ")\n",
        "metric_dropdown = widgets.Select(\n",
        "    options=list(set(data['Outcome_Indicator_Name'])),\n",
        "    # rows=10,\n",
        "    description='Metric:',\n",
        "    disabled=False\n",
        ")\n",
        "program_dropdown = widgets.Select(\n",
        "    options=list(set(data['Program_Name'])),\n",
        "    # rows=10,\n",
        "    description='Program:',\n",
        "    disabled=False\n",
        ")"
      ],
      "execution_count": 0,
      "outputs": []
    },
    {
      "cell_type": "markdown",
      "metadata": {
        "id": "DAdTtW94zPM5",
        "colab_type": "text"
      },
      "source": [
        "**External - Public Facing Functionality**"
      ]
    },
    {
      "cell_type": "code",
      "metadata": {
        "id": "vavGIYI2zQSz",
        "colab_type": "code",
        "colab": {}
      },
      "source": [
        "btn = widgets.Button(description='Generate')\n",
        "def btn_eventhandler(obj):\n",
        "    #clear_output()\n",
        "    generate_annual_metric_visualization(strategy_dropdown.value)\n",
        "btn.on_click(btn_eventhandler)\n",
        "\n",
        "TwoByTwoLayout(top_left=strategy_dropdown,\n",
        "               top_right=btn)"
      ],
      "execution_count": 0,
      "outputs": []
    },
    {
      "cell_type": "code",
      "metadata": {
        "id": "neu0umcjzZ_o",
        "colab_type": "code",
        "colab": {}
      },
      "source": [
        "btn = widgets.Button(description='Generate')\n",
        "def btn_eventhandler(obj):\n",
        "    generate_specific_metric_visualization(metric_dropdown.value,strategy_dropdown.value)\n",
        "btn.on_click(btn_eventhandler)\n",
        "\n",
        "display(btn)\n",
        "TwoByTwoLayout(top_left=strategy_dropdown,\n",
        "               top_right=metric_dropdown)"
      ],
      "execution_count": 0,
      "outputs": []
    },
    {
      "cell_type": "markdown",
      "metadata": {
        "id": "MEXeal4s03Jo",
        "colab_type": "text"
      },
      "source": [
        "**Internal Facing Functionality**"
      ]
    },
    {
      "cell_type": "code",
      "metadata": {
        "id": "OY-m9aTo07fk",
        "colab_type": "code",
        "colab": {}
      },
      "source": [
        "btn = widgets.Button(description='Generate')\n",
        "def btn_eventhandler(obj):\n",
        "    #clear_output()\n",
        "    generate_annual_metric_visualization(strategy_dropdown.value,program_dropdown.value)\n",
        "btn.on_click(btn_eventhandler)\n",
        "\n",
        "display(btn)\n",
        "TwoByTwoLayout(top_left=strategy_dropdown,\n",
        "               top_right=program_dropdown)"
      ],
      "execution_count": 0,
      "outputs": []
    },
    {
      "cell_type": "code",
      "metadata": {
        "id": "PuUfL3hc1LNq",
        "colab_type": "code",
        "colab": {}
      },
      "source": [
        "btn = widgets.Button(description='Generate')\n",
        "def btn_eventhandler(obj):\n",
        "    generate_specific_metric_visualization(metric_dropdown.value,strategy_dropdown.value,program_dropdown.value)\n",
        "btn.on_click(btn_eventhandler)\n",
        "\n",
        "TwoByTwoLayout(top_left=display(btn),\n",
        "               bottom_left=strategy_dropdown,\n",
        "               bottom_right=metric_dropdown,\n",
        "               top_right=program_dropdown)"
      ],
      "execution_count": 0,
      "outputs": []
    }
  ]
}